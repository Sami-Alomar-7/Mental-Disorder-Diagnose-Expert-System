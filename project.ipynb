{
 "cells": [
  {
   "cell_type": "code",
   "execution_count": 1,
   "metadata": {},
   "outputs": [
    {
     "ename": "ModuleNotFoundError",
     "evalue": "No module named 'experta'",
     "output_type": "error",
     "traceback": [
      "\u001b[1;31m---------------------------------------------------------------------------\u001b[0m",
      "\u001b[1;31mModuleNotFoundError\u001b[0m                       Traceback (most recent call last)",
      "Cell \u001b[1;32mIn[1], line 1\u001b[0m\n\u001b[1;32m----> 1\u001b[0m \u001b[38;5;28;01mfrom\u001b[39;00m \u001b[38;5;21;01mexperta\u001b[39;00m \u001b[38;5;28;01mimport\u001b[39;00m \u001b[38;5;241m*\u001b[39m\n\u001b[0;32m      3\u001b[0m \u001b[38;5;28;01mclass\u001b[39;00m \u001b[38;5;21;01mQuestion\u001b[39;00m(Fact):\n\u001b[0;32m      4\u001b[0m   \u001b[38;5;28mid\u001b[39m \u001b[38;5;241m=\u001b[39m Field(\u001b[38;5;28mint\u001b[39m, mandatory\u001b[38;5;241m=\u001b[39m\u001b[38;5;28;01mTrue\u001b[39;00m)\n",
      "\u001b[1;31mModuleNotFoundError\u001b[0m: No module named 'experta'"
     ]
    }
   ],
   "source": [
    "from experta import *\n",
    "\n",
    "class Question(Fact):\n",
    "  id = Field(int, mandatory=True)\n",
    "  content = Field(str, mandatory=True)\n",
    "  certaintyFactor = Field(float, mandatory=True)\n",
    "  isAsked = Field(bool, mandatory=True, default=False)\n",
    "\n",
    "class Charaectaristic(Fact):\n",
    "  label = Field(str, mandatory=True)\n",
    "  significance = Field(float, mandatory=True)\n",
    "\n",
    "class MyKnowledEngine(KnowledgeEngine):\n",
    "  @DefFacts()\n",
    "  def initailize(self):\n",
    "    self.declare(\n",
    "      Question(\n",
    "        id = 1,\n",
    "        content = \"Have you been experiencing symptoms for more than six months?\",\n",
    "        significance = 0.0,\n",
    "        isAsked = False\n",
    "      )\n",
    "    )\n",
    "    self.declare(\n",
    "      Question(\n",
    "        id = 2,\n",
    "        content = \"Have these symptoms significantly affected your ability to work, study, or maintain relationships?\",\n",
    "        significance = 0.0,\n",
    "        isAsked = False\n",
    "      )\n",
    "    )\n",
    "    self.declare(\n",
    "      Question(\n",
    "        id = 3,\n",
    "        content = \"Have you been experincing any signicant changes in your mood or emotions?\",\n",
    "        significance = 0.0,\n",
    "        isAsked = False\n",
    "      )\n",
    "    )\n",
    "    self.declare(\n",
    "      Question(\n",
    "        id = 4,\n",
    "        content = \"Have you been experincing concentration difficulties?\",\n",
    "        significance = 0.0,\n",
    "        isAsked = False\n",
    "      )\n",
    "    )"
   ]
  },
  {
   "cell_type": "code",
   "execution_count": null,
   "metadata": {},
   "outputs": [],
   "source": []
  }
 ],
 "metadata": {
  "kernelspec": {
   "display_name": ".venv",
   "language": "python",
   "name": "python3"
  },
  "language_info": {
   "codemirror_mode": {
    "name": "ipython",
    "version": 3
   },
   "file_extension": ".py",
   "mimetype": "text/x-python",
   "name": "python",
   "nbconvert_exporter": "python",
   "pygments_lexer": "ipython3",
   "version": "3.8.19"
  }
 },
 "nbformat": 4,
 "nbformat_minor": 2
}
