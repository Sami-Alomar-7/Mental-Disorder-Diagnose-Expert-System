{
 "cells": [
  {
   "cell_type": "code",
   "execution_count": 4,
   "metadata": {},
   "outputs": [],
   "source": [
    "from experta import *\n",
    "\n",
    "class Question(Fact):\n",
    "  id = Field(int, mandatory=True)\n",
    "  content = Field(str, mandatory=True)\n",
    "  certaintyFactor = Field(float, mandatory=True)\n",
    "  isAsked = Field(bool, mandatory=True, default=False)\n",
    "\n",
    "class Charaectaristic(Fact):\n",
    "  label = Field(str, mandatory=True)\n",
    "  significance = Field(float, mandatory=True)\n",
    "\n",
    "class MyKnowledEngine(KnowledgeEngine):\n",
    "  @DefFacts()\n",
    "  def initailize(self):\n",
    "    yield Question(\n",
    "        id = 1,\n",
    "        content = \"Have you been experiencing symptoms for more than six months?\",\n",
    "        significance = 0.0,\n",
    "        isAsked = False\n",
    "      )\n",
    "    yield Question(\n",
    "        id = 2,\n",
    "        content = \"Have these symptoms significantly affected your ability to work, study, or maintain relationships?\",\n",
    "        significance = 0.0,\n",
    "        isAsked = False\n",
    "      )\n",
    "    yield Question(\n",
    "        id = 3,\n",
    "        content = \"Have you been experincing any signicant changes in your mood or emotions?\",\n",
    "        significance = 0.0,\n",
    "        isAsked = False\n",
    "      )\n",
    "    yield Question(\n",
    "        id = 4,\n",
    "        content = \"Have you been experincing concentration difficulties?\",\n",
    "        significance = 0.0,\n",
    "        isAsked = False\n",
    "      )"
   ]
  }
 ],
 "metadata": {
  "kernelspec": {
   "display_name": ".venv",
   "language": "python",
   "name": "python3"
  },
  "language_info": {
   "codemirror_mode": {
    "name": "ipython",
    "version": 3
   },
   "file_extension": ".py",
   "mimetype": "text/x-python",
   "name": "python",
   "nbconvert_exporter": "python",
   "pygments_lexer": "ipython3",
   "version": "3.7.9"
  }
 },
 "nbformat": 4,
 "nbformat_minor": 2
}
