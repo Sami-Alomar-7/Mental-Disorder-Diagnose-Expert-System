{
 "cells": [
  {
   "cell_type": "code",
   "execution_count": 2,
   "metadata": {},
   "outputs": [
    {
     "ename": "ModuleNotFoundError",
     "evalue": "No module named 'experta'",
     "output_type": "error",
     "traceback": [
      "\u001b[1;31m---------------------------------------------------------------------------\u001b[0m",
      "\u001b[1;31mModuleNotFoundError\u001b[0m                       Traceback (most recent call last)",
      "\u001b[1;32m~\\AppData\\Local\\Temp\\ipykernel_4504\\1916048453.py\u001b[0m in \u001b[0;36m<module>\u001b[1;34m\u001b[0m\n\u001b[1;32m----> 1\u001b[1;33m \u001b[1;32mfrom\u001b[0m \u001b[0mexperta\u001b[0m \u001b[1;32mimport\u001b[0m \u001b[1;33m*\u001b[0m\u001b[1;33m\u001b[0m\u001b[1;33m\u001b[0m\u001b[0m\n\u001b[0m\u001b[0;32m      2\u001b[0m \u001b[1;33m\u001b[0m\u001b[0m\n\u001b[0;32m      3\u001b[0m \u001b[1;32mclass\u001b[0m \u001b[0mQuestion\u001b[0m\u001b[1;33m(\u001b[0m\u001b[0mFact\u001b[0m\u001b[1;33m)\u001b[0m\u001b[1;33m:\u001b[0m\u001b[1;33m\u001b[0m\u001b[1;33m\u001b[0m\u001b[0m\n\u001b[0;32m      4\u001b[0m   \u001b[0mid\u001b[0m \u001b[1;33m=\u001b[0m \u001b[0mField\u001b[0m\u001b[1;33m(\u001b[0m\u001b[0mint\u001b[0m\u001b[1;33m,\u001b[0m \u001b[0mmandatory\u001b[0m\u001b[1;33m=\u001b[0m\u001b[1;32mTrue\u001b[0m\u001b[1;33m)\u001b[0m\u001b[1;33m\u001b[0m\u001b[1;33m\u001b[0m\u001b[0m\n\u001b[0;32m      5\u001b[0m   \u001b[0mcontent\u001b[0m \u001b[1;33m=\u001b[0m \u001b[0mField\u001b[0m\u001b[1;33m(\u001b[0m\u001b[0mstr\u001b[0m\u001b[1;33m,\u001b[0m \u001b[0mmandatory\u001b[0m\u001b[1;33m=\u001b[0m\u001b[1;32mTrue\u001b[0m\u001b[1;33m)\u001b[0m\u001b[1;33m\u001b[0m\u001b[1;33m\u001b[0m\u001b[0m\n",
      "\u001b[1;31mModuleNotFoundError\u001b[0m: No module named 'experta'"
     ]
    }
   ],
   "source": [
    "from experta import *\n",
    "\n",
    "class Question(Fact):\n",
    "  id = Field(int, mandatory=True)\n",
    "  content = Field(str, mandatory=True)\n",
    "  certaintyFactor = Field(float, mandatory=True)\n",
    "  isAsked = Field(bool, mandatory=True, default=False)\n",
    "\n",
    "class Charaectaristic(Fact):\n",
    "  label = Field(str, mandatory=True)\n",
    "  significance = Field(float, mandatory=True)\n",
    "\n",
    "class MyKnowledEngine(KnowledgeEngine):\n",
    "  @DefFacts()\n",
    "  def initailize(self):\n",
    "    self.declare(\n",
    "      Question(\n",
    "        id = 1,\n",
    "        content = \"Have you been experiencing symptoms for more than six months?\",\n",
    "        significance = 0.0,\n",
    "        isAsked = False\n",
    "      )\n",
    "    )\n",
    "    self.declare(\n",
    "      Question(\n",
    "        id = 2,\n",
    "        content = \"Have these symptoms significantly affected your ability to work, study, or maintain relationships?\",\n",
    "        significance = 0.0,\n",
    "        isAsked = False\n",
    "      )\n",
    "    )\n",
    "    self.declare(\n",
    "      Question(\n",
    "        id = 3,\n",
    "        content = \"Have you been experincing any signicant changes in your mood or emotions?\",\n",
    "        significance = 0.0,\n",
    "        isAsked = False\n",
    "      )\n",
    "    )\n",
    "    self.declare(\n",
    "      Question(\n",
    "        id = 4,\n",
    "        content = \"Have you been experincing concentration difficulties?\",\n",
    "        significance = 0.0,\n",
    "        isAsked = False\n",
    "      )\n",
    "    )"
   ]
  }
 ],
 "metadata": {
  "kernelspec": {
   "display_name": ".venv",
   "language": "python",
   "name": "python3"
  },
  "language_info": {
   "codemirror_mode": {
    "name": "ipython",
    "version": 3
   },
   "file_extension": ".py",
   "mimetype": "text/x-python",
   "name": "python",
   "nbconvert_exporter": "python",
   "pygments_lexer": "ipython3",
   "version": "3.7.9"
  }
 },
 "nbformat": 4,
 "nbformat_minor": 2
}
